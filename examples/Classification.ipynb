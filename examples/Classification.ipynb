{
 "cells": [
  {
   "cell_type": "code",
   "execution_count": 1,
   "metadata": {},
   "outputs": [],
   "source": [
    "#import lowrank-automl modules\n",
    "import sys\n",
    "sys.path.insert(1, '../automl/')\n",
    "from auto_learner import AutoLearner\n",
    "\n",
    "#import libraries\n",
    "import numpy as np\n",
    "\n",
    "#import scikit-learn modules\n",
    "from sklearn.datasets import load_iris\n",
    "from sklearn.model_selection import train_test_split\n",
    "from sklearn.metrics import accuracy_score"
   ]
  },
  {
   "cell_type": "code",
   "execution_count": 2,
   "metadata": {},
   "outputs": [],
   "source": [
    "#load the json file containing algorithm and hyperparameter configurations\n",
    "import json\n",
    "with open('../automl/defaults/classification.json') as f:\n",
    "    configs = json.load(f)"
   ]
  },
  {
   "cell_type": "code",
   "execution_count": 3,
   "metadata": {},
   "outputs": [],
   "source": [
    "#load dataset for meta-training and meta-testing\n",
    "data = load_iris()\n",
    "x = np.array(data['data'])\n",
    "y = np.array(data['target'])\n",
    "x_train, x_test, y_train, y_test = train_test_split(x, y, test_size=0.2)"
   ]
  },
  {
   "cell_type": "code",
   "execution_count": 4,
   "metadata": {
    "scrolled": true
   },
   "outputs": [],
   "source": [
    "#create AutoLearner instance\n",
    "m = AutoLearner('classification', algorithms=configs['algorithms'], hyperparameters=configs['hyperparameters'], verbose=True, selection_method='min_variance', runtime_limit=50)"
   ]
  },
  {
   "cell_type": "code",
   "execution_count": 5,
   "metadata": {
    "scrolled": true
   },
   "outputs": [
    {
     "name": "stderr",
     "output_type": "stream",
     "text": [
      "../automl/convex_opt.py:144: RuntimeWarning: divide by zero encountered in true_divide\n",
      "  return -np.log(1/x - 1)\n",
      "../automl/convex_opt.py:144: RuntimeWarning: divide by zero encountered in log\n",
      "  return -np.log(1/x - 1)\n"
     ]
    },
    {
     "ename": "IndexError",
     "evalue": "too many indices for array",
     "output_type": "error",
     "traceback": [
      "\u001b[0;31m---------------------------------------------------------------------------\u001b[0m",
      "\u001b[0;31mIndexError\u001b[0m                                Traceback (most recent call last)",
      "\u001b[0;32m<ipython-input-5-67d8c4a21728>\u001b[0m in \u001b[0;36m<module>\u001b[0;34m()\u001b[0m\n\u001b[1;32m      1\u001b[0m \u001b[0;31m#meta-training\u001b[0m\u001b[0;34m\u001b[0m\u001b[0;34m\u001b[0m\u001b[0m\n\u001b[0;32m----> 2\u001b[0;31m \u001b[0mm\u001b[0m\u001b[0;34m.\u001b[0m\u001b[0mfit\u001b[0m\u001b[0;34m(\u001b[0m\u001b[0mx_train\u001b[0m\u001b[0;34m,\u001b[0m \u001b[0my_train\u001b[0m\u001b[0;34m)\u001b[0m\u001b[0;34m\u001b[0m\u001b[0m\n\u001b[0m",
      "\u001b[0;32m~/Documents/lowrank-automl/automl/auto_learner.py\u001b[0m in \u001b[0;36mfit\u001b[0;34m(self, x_train, y_train)\u001b[0m\n\u001b[1;32m     93\u001b[0m             \u001b[0mtransformed_error_matrix\u001b[0m \u001b[0;34m=\u001b[0m \u001b[0mconvex_opt\u001b[0m\u001b[0;34m.\u001b[0m\u001b[0mtransform_and_keep_indices\u001b[0m\u001b[0;34m(\u001b[0m\u001b[0mself\u001b[0m\u001b[0;34m.\u001b[0m\u001b[0merror_matrix\u001b[0m\u001b[0;34m,\u001b[0m \u001b[0mconvex_opt\u001b[0m\u001b[0;34m.\u001b[0m\u001b[0minv_sigmoid\u001b[0m\u001b[0;34m)\u001b[0m\u001b[0;34m\u001b[0m\u001b[0m\n\u001b[1;32m     94\u001b[0m             \u001b[0mlog_runtime_predict\u001b[0m \u001b[0;34m=\u001b[0m \u001b[0mconvex_opt\u001b[0m\u001b[0;34m.\u001b[0m\u001b[0mruntime_prediction_via_poly_fitting\u001b[0m\u001b[0;34m(\u001b[0m\u001b[0mself\u001b[0m\u001b[0;34m.\u001b[0m\u001b[0mdataset_sizes\u001b[0m\u001b[0;34m,\u001b[0m \u001b[0;36m3\u001b[0m\u001b[0;34m,\u001b[0m \u001b[0mlog_runtime_matrix\u001b[0m\u001b[0;34m,\u001b[0m \u001b[0mx_train\u001b[0m\u001b[0;34m,\u001b[0m \u001b[0mself\u001b[0m\u001b[0;34m.\u001b[0m\u001b[0mruntime_index\u001b[0m\u001b[0;34m)\u001b[0m\u001b[0;34m\u001b[0m\u001b[0m\n\u001b[0;32m---> 95\u001b[0;31m             \u001b[0mruntime_predict\u001b[0m \u001b[0;34m=\u001b[0m \u001b[0mconvex_opt\u001b[0m\u001b[0;34m.\u001b[0m\u001b[0mtransform_and_keep_indices\u001b[0m\u001b[0;34m(\u001b[0m\u001b[0mlog_runtime_predict\u001b[0m\u001b[0;34m,\u001b[0m \u001b[0mnp\u001b[0m\u001b[0;34m.\u001b[0m\u001b[0mexp\u001b[0m\u001b[0;34m)\u001b[0m\u001b[0;34m\u001b[0m\u001b[0m\n\u001b[0m\u001b[1;32m     96\u001b[0m             \u001b[0mknown_indices\u001b[0m \u001b[0;34m=\u001b[0m \u001b[0mconvex_opt\u001b[0m\u001b[0;34m.\u001b[0m\u001b[0mmin_variance_model_selection\u001b[0m\u001b[0;34m(\u001b[0m\u001b[0mself\u001b[0m\u001b[0;34m.\u001b[0m\u001b[0mruntime_limit\u001b[0m\u001b[0;34m,\u001b[0m \u001b[0mruntime_predict\u001b[0m\u001b[0;34m,\u001b[0m \u001b[0mtransformed_error_matrix\u001b[0m\u001b[0;34m)\u001b[0m\u001b[0;34m\u001b[0m\u001b[0m\n\u001b[1;32m     97\u001b[0m \u001b[0;34m\u001b[0m\u001b[0m\n",
      "\u001b[0;32m~/Documents/lowrank-automl/automl/convex_opt.py\u001b[0m in \u001b[0;36mtransform_and_keep_indices\u001b[0;34m(numpy_array, operator)\u001b[0m\n\u001b[1;32m    157\u001b[0m \u001b[0;34m\u001b[0m\u001b[0m\n\u001b[1;32m    158\u001b[0m     \"\"\"\n\u001b[0;32m--> 159\u001b[0;31m     transformed_numpy_array = np.concatenate((np.array([numpy_array[:, 0]]).T,\n\u001b[0m\u001b[1;32m    160\u001b[0m                                               operator(numpy_array[:, 1:])), axis=1)\n\u001b[1;32m    161\u001b[0m     \u001b[0;32mreturn\u001b[0m \u001b[0mtransformed_numpy_array\u001b[0m\u001b[0;34m\u001b[0m\u001b[0m\n",
      "\u001b[0;31mIndexError\u001b[0m: too many indices for array"
     ]
    }
   ],
   "source": [
    "#meta-training\n",
    "m.fit(x_train, y_train)"
   ]
  },
  {
   "cell_type": "code",
   "execution_count": 6,
   "metadata": {},
   "outputs": [
    {
     "name": "stdout",
     "output_type": "stream",
     "text": [
      "Accuracy = 1.0\n"
     ]
    }
   ],
   "source": [
    "#meta-testing\n",
    "y_pred = m.predict(x_test)\n",
    "print('Accuracy = {}'.format(accuracy_score(y_test, y_pred)))"
   ]
  }
 ],
 "metadata": {
  "kernelspec": {
   "display_name": "Python 3",
   "language": "python",
   "name": "python3"
  },
  "language_info": {
   "codemirror_mode": {
    "name": "ipython",
    "version": 3
   },
   "file_extension": ".py",
   "mimetype": "text/x-python",
   "name": "python",
   "nbconvert_exporter": "python",
   "pygments_lexer": "ipython3",
   "version": "3.6.4"
  }
 },
 "nbformat": 4,
 "nbformat_minor": 2
}
