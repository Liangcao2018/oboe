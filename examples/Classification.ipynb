{
 "cells": [
  {
   "cell_type": "code",
   "execution_count": 1,
   "metadata": {},
   "outputs": [],
   "source": [
    "#import lowrank-automl modules\n",
    "import sys\n",
    "sys.path.insert(1, '../automl/')\n",
    "from auto_learner import AutoLearner\n",
    "\n",
    "#import libraries\n",
    "import numpy as np\n",
    "\n",
    "#import scikit-learn modules\n",
    "from sklearn.datasets import load_iris\n",
    "from sklearn.model_selection import train_test_split\n",
    "from sklearn.metrics import accuracy_score"
   ]
  },
  {
   "cell_type": "code",
   "execution_count": 2,
   "metadata": {},
   "outputs": [],
   "source": [
    "#load the json file containing algorithm and hyperparameter configurations\n",
    "import json\n",
    "with open('../automl/defaults/classification.json') as f:\n",
    "    configs = json.load(f)"
   ]
  },
  {
   "cell_type": "code",
   "execution_count": 3,
   "metadata": {},
   "outputs": [],
   "source": [
    "#load dataset for meta-training and meta-testing\n",
    "data = load_iris()\n",
    "x = np.array(data['data'])\n",
    "y = np.array(data['target'])\n",
    "x_train, x_test, y_train, y_test = train_test_split(x, y, test_size=0.2)"
   ]
  },
  {
   "cell_type": "code",
   "execution_count": 4,
   "metadata": {
    "scrolled": true
   },
   "outputs": [],
   "source": [
    "#create AutoLearner instance\n",
    "m = AutoLearner('classification', algorithms=configs['algorithms'], hyperparameters=configs['hyperparameters'], verbose=True, selection_method='min_variance', runtime_limit=50)"
   ]
  },
  {
   "cell_type": "code",
   "execution_count": 5,
   "metadata": {
    "scrolled": true
   },
   "outputs": [
    {
     "name": "stdout",
     "output_type": "stream",
     "text": [
      "array([[-11.51291546, -11.51291546, -11.51291546, ..., -11.51291546,\n",
      "        -11.51291546, -11.51291546],\n",
      "       [ -0.23440071,  -0.23440071,  -0.16705408, ...,  -0.1704112 ,\n",
      "         -0.29887168,  -0.30569181],\n",
      "       [ -0.87924946,  -1.06773883,  -0.95274392, ...,  -1.03732396,\n",
      "         -1.17104213,  -1.17104213],\n",
      "       ...,\n",
      "       [ -1.90186206,  -3.26100375,  -0.02862731, ...,  -4.41506901,\n",
      "         -4.41506901,  -4.19433472],\n",
      "       [ -1.2353295 ,  -1.2353295 ,  -1.2353295 , ...,  -1.2353295 ,\n",
      "         -1.2353295 ,  -1.2353295 ],\n",
      "       [  0.40546511,   1.09861229,  -0.        , ...,  -0.        ,\n",
      "         -0.        ,  -0.        ]])\n",
      "10\n",
      "219\n",
      "lrm finished\n",
      "array([3.50209957e+00, 3.64126174e+00, 3.93864528e+00, 3.98412685e+00,\n",
      "       4.00204223e+00, 7.26718963e+00, 7.46838255e+00, 8.45167438e+00,\n",
      "       8.47610829e+00, 8.46378444e+00, 8.32112006e-02, 7.80863709e-02,\n",
      "       7.21506330e-02, 6.87836148e-02, 6.70639987e-02, 4.83736054e-02,\n",
      "       2.54748872e-02, 2.25445508e-02, 2.19322630e-02, 2.31789576e-02,\n",
      "       7.88033879e-02, 7.85883188e-02, 7.78472566e-02, 8.01640180e-02,\n",
      "       6.99396889e-01, 7.48340831e-01, 7.20794370e-01, 7.43505507e-01,\n",
      "       6.93626005e-01, 7.17454772e-01, 6.93127073e-01, 6.93146084e-01,\n",
      "       6.78096428e-01, 6.89268654e-01, 6.65140152e-01, 6.47639694e-01,\n",
      "       6.43800274e-01, 6.40920528e-01, 6.35661065e-01, 6.43717260e-01,\n",
      "       6.50458102e-01, 6.51859370e-01, 6.50524849e-01, 6.49004651e-01,\n",
      "       6.78681316e-01, 6.99164105e-01, 7.28766683e-01, 7.55481315e-01,\n",
      "       7.48404038e-01, 7.63489965e-01, 7.22213365e-01, 7.62819000e-01,\n",
      "       7.53267817e-01, 7.70849187e-01, 1.66109229e+01, 1.01294964e+01,\n",
      "       2.81612421e+01, 1.99174645e+01, 1.89360871e+01, 1.15877570e+01,\n",
      "       3.25430543e+01, 2.36929846e+01, 1.93423788e+01, 1.20209023e+01,\n",
      "       3.50723483e+01, 2.47568915e+01, 1.94636636e+01, 1.23411741e+01,\n",
      "       3.19517727e+01, 2.37102507e+01, 1.86442833e+01, 1.18979427e+01,\n",
      "       2.44052416e+01, 2.01258411e+01, 1.48074565e+01, 1.09394937e+01,\n",
      "       1.55778810e+01, 1.42842465e+01, 1.25713940e+01, 1.02664443e+01,\n",
      "       1.28568698e+01, 1.17328933e+01, 8.63622209e-02, 9.57117364e-02,\n",
      "       8.98937477e-02, 9.28863619e-02, 9.16004434e-02, 9.54179269e-02,\n",
      "       9.93861910e-02, 9.46867408e-02, 8.96371962e-02, 9.00086995e-02,\n",
      "       8.42306935e-02, 7.72701218e-02, 7.17190801e-02, 8.04754065e-02,\n",
      "       7.11615939e-02, 8.44621342e-02, 7.71356042e-02, 4.71251625e-01,\n",
      "       5.14535475e-01, 5.27898895e+00, 4.77202421e+00, 3.74847945e-01,\n",
      "       5.36835566e-01, 6.06262237e+00, 5.02729329e+00, 4.11211852e-01,\n",
      "       5.59328751e-01, 6.66038922e+00, 5.16180205e+00, 4.42860945e-01,\n",
      "       5.86807586e-01, 6.83910179e+00, 5.31498938e+00, 5.00989090e-01,\n",
      "       6.19583530e-01, 7.16737606e+00, 5.30499401e+00, 5.53694845e-01,\n",
      "       6.05070679e-01, 7.44298282e+00, 5.42307933e+00, 6.31405348e-01,\n",
      "       6.78563391e-01, 7.91465531e+00, 5.72654023e+00, 7.23342011e-01,\n",
      "       6.88402899e-01, 7.77300288e+00, 5.41162995e+00, 4.63133903e+01,\n",
      "       4.57987360e+01, 6.42132870e+01, 6.51331823e+01, 5.86420189e+01,\n",
      "       5.91688598e+01, 3.36030028e+01, 3.47493901e+01, 4.26694697e+01,\n",
      "       4.30893664e+01, 1.24541331e+01, 1.10922703e+01, 1.68310183e-01,\n",
      "       9.39697033e-01, 9.24701483e-01, 8.58584316e-01, 8.66910744e-01,\n",
      "       8.47836984e-01, 8.74233832e-01, 8.13521707e-01, 8.59065695e-01,\n",
      "       8.35902578e-01, 8.76947412e-01, 8.20646107e-01, 8.43480438e-01,\n",
      "       8.42794727e-01, 8.57740155e-01, 8.36751849e-01, 8.33964461e-01,\n",
      "       8.45537714e-01, 8.51965819e-01, 8.59474401e-01, 8.53001917e-01,\n",
      "       8.87771964e-01, 9.17519356e-01, 9.34016614e-01, 9.39950084e-01,\n",
      "       9.69674932e-01, 9.92302299e-01, 9.74387603e-01, 9.78416512e-01,\n",
      "       9.27572577e-01, 9.31417897e-01, 2.69778566e-01, 2.64196913e-01,\n",
      "       2.63383476e-01, 2.87401540e-01, 2.70055651e-01, 2.82597492e-01,\n",
      "       2.52574670e-01, 3.13473155e-01, 2.84065848e-01, 2.75495085e-01,\n",
      "       2.60674263e-01, 3.32892644e-01, 2.86712667e-01, 2.78986033e-01,\n",
      "       2.59716617e-01, 3.47028148e-01, 2.89531273e-01, 2.86484982e-01,\n",
      "       2.69233639e-01, 3.69876596e-01, 2.97872424e-01, 2.90780326e-01,\n",
      "       2.72455704e-01, 3.84902818e-01, 3.00526573e-01, 2.98071786e-01,\n",
      "       2.77970272e-01, 4.05851529e-01, 3.03245353e-01, 3.17027923e-01,\n",
      "       2.94485877e-01, 4.40916391e-01, 3.09153827e-01, 3.18095206e-01,\n",
      "       3.03754998e-01, 4.76143432e-01, 1.18310154e+00, 1.57833993e+00,\n",
      "       1.90090431e+00, 2.13999288e+00, 2.27754839e+00, 2.50592322e+00,\n",
      "       2.69214634e+00, 2.72962609e+00, 2.72331642e+00])\n",
      "cvxopt finished\n",
      "Sampling 101 entries of new row...\n",
      "DT {'min_samples_split': 2} complete.\n",
      "DT {'min_samples_split': 8} complete.\n",
      "DT {'min_samples_split': 4} complete.\n",
      "DT {'min_samples_split': 32} complete.\n",
      "DT {'min_samples_split': 16} complete.\n",
      "DT {'min_samples_split': 64} complete.\n",
      "DT {'min_samples_split': 512} complete.\n",
      "DT {'min_samples_split': 128} complete.\n",
      "DT {'min_samples_split': 256} complete.\n",
      "DT {'min_samples_split': 0.01} complete.\n",
      "DT {'min_samples_split': 1024} complete.\n",
      "DT {'min_samples_split': 0.001} complete.\n",
      "DT {'min_samples_split': 0.0001} complete.\n",
      "DT {'min_samples_split': 1e-05} complete.\n",
      "ExtraTrees {'min_samples_split': 32, 'criterion': 'gini'} complete.\n",
      "ExtraTrees {'min_samples_split': 64, 'criterion': 'gini'} complete.\n",
      "ExtraTrees {'min_samples_split': 32, 'criterion': 'entropy'} complete.\n",
      "ExtraTrees {'min_samples_split': 128, 'criterion': 'gini'} complete.\n",
      "ExtraTrees {'min_samples_split': 64, 'criterion': 'entropy'} complete.\n",
      "ExtraTrees {'min_samples_split': 128, 'criterion': 'entropy'} complete.\n",
      "ExtraTrees {'min_samples_split': 256, 'criterion': 'gini'} complete.\n",
      "ExtraTrees {'min_samples_split': 256, 'criterion': 'entropy'} complete.\n",
      "ExtraTrees {'min_samples_split': 512, 'criterion': 'gini'} complete.\n",
      "ExtraTrees {'min_samples_split': 512, 'criterion': 'entropy'} complete.\n",
      "ExtraTrees {'min_samples_split': 1024, 'criterion': 'gini'} complete.\n",
      "GNB {} complete.\n",
      "KNN {'n_neighbors': 1, 'p': 1} complete.\n",
      "KNN {'n_neighbors': 3, 'p': 1} complete.\n",
      "KNN {'n_neighbors': 1, 'p': 2} complete.\n",
      "KNN {'n_neighbors': 3, 'p': 2} complete.\n",
      "KNN {'n_neighbors': 5, 'p': 1} complete.\n",
      "KNN {'n_neighbors': 5, 'p': 2} complete.\n",
      "ExtraTrees {'min_samples_split': 1024, 'criterion': 'entropy'} complete.\n",
      "KNN {'n_neighbors': 7, 'p': 2} complete.\n",
      "KNN {'n_neighbors': 9, 'p': 1} complete.\n",
      "KNN {'n_neighbors': 7, 'p': 1} complete.\n",
      "KNN {'n_neighbors': 9, 'p': 2} complete.\n",
      "KNN {'n_neighbors': 11, 'p': 1} complete.\n",
      "KNN {'n_neighbors': 11, 'p': 2} complete.\n",
      "KNN {'n_neighbors': 13, 'p': 1} complete.\n",
      "KNN {'n_neighbors': 13, 'p': 2} complete.\n",
      "KNN {'n_neighbors': 15, 'p': 1} complete.\n",
      "KNN {'n_neighbors': 15, 'p': 2} complete.\n",
      "Logit {'C': 0.25, 'solver': 'liblinear', 'penalty': 'l2'} complete.\n",
      "Logit {'C': 0.5, 'solver': 'liblinear', 'penalty': 'l2'} complete.\n",
      "Logit {'C': 1, 'solver': 'liblinear', 'penalty': 'l2'} complete.\n",
      "Logit {'C': 1.5, 'solver': 'liblinear', 'penalty': 'l2'} complete.\n",
      "Logit {'C': 0.75, 'solver': 'liblinear', 'penalty': 'l2'} complete.\n",
      "Logit {'C': 2, 'solver': 'liblinear', 'penalty': 'l2'} complete.\n",
      "Logit {'C': 3, 'solver': 'liblinear', 'penalty': 'l2'} complete.\n"
     ]
    },
    {
     "name": "stderr",
     "output_type": "stream",
     "text": [
      "/anaconda3/lib/python3.6/site-packages/sklearn/linear_model/stochastic_gradient.py:128: FutureWarning: max_iter and tol parameters have been added in <class 'sklearn.linear_model.perceptron.Perceptron'> in 0.19. If both are left unset, they default to max_iter=5 and tol=None. If tol is not None, max_iter defaults to max_iter=1000. From 0.21, default max_iter will be 1000, and default tol will be 1e-3.\n",
      "  \"and default tol will be 1e-3.\" % type(self), FutureWarning)\n"
     ]
    },
    {
     "name": "stdout",
     "output_type": "stream",
     "text": [
      "Perceptron {} complete.\n",
      "AB {'n_estimators': 50, 'learning_rate': 3} complete.\n",
      "Logit {'C': 4, 'solver': 'liblinear', 'penalty': 'l2'} complete.\n",
      "RF {'min_samples_split': 64, 'criterion': 'gini'} complete.\n",
      "RF {'min_samples_split': 64, 'criterion': 'entropy'} complete.\n",
      "RF {'min_samples_split': 32, 'criterion': 'gini'} complete.\n",
      "RF {'min_samples_split': 32, 'criterion': 'entropy'} complete.\n",
      "RF {'min_samples_split': 128, 'criterion': 'gini'} complete.\n",
      "RF {'min_samples_split': 128, 'criterion': 'entropy'} complete.\n",
      "RF {'min_samples_split': 256, 'criterion': 'gini'} complete.\n",
      "RF {'min_samples_split': 256, 'criterion': 'entropy'} complete.\n",
      "RF {'min_samples_split': 512, 'criterion': 'gini'} complete.\n",
      "RF {'min_samples_split': 512, 'criterion': 'entropy'} complete.\n",
      "kSVM {'C': 0.125, 'kernel': 'rbf', 'coef0': 0} complete.\n",
      "kSVM {'C': 0.125, 'kernel': 'poly', 'coef0': 0} complete.\n",
      "kSVM {'C': 0.125, 'kernel': 'rbf', 'coef0': 10} complete.\n",
      "kSVM {'C': 0.125, 'kernel': 'poly', 'coef0': 10} complete.\n",
      "RF {'min_samples_split': 1024, 'criterion': 'gini'} complete.\n",
      "kSVM {'C': 0.25, 'kernel': 'rbf', 'coef0': 0} complete.\n",
      "kSVM {'C': 0.25, 'kernel': 'rbf', 'coef0': 10} complete.\n",
      "kSVM {'C': 0.25, 'kernel': 'poly', 'coef0': 10} complete.\n",
      "kSVM {'C': 0.5, 'kernel': 'rbf', 'coef0': 0} complete.\n",
      "kSVM {'C': 0.25, 'kernel': 'poly', 'coef0': 0} complete.\n",
      "RF {'min_samples_split': 1024, 'criterion': 'entropy'} complete.\n",
      "kSVM {'C': 0.5, 'kernel': 'rbf', 'coef0': 10} complete.\n",
      "kSVM {'C': 0.5, 'kernel': 'poly', 'coef0': 10} complete.\n",
      "kSVM {'C': 0.75, 'kernel': 'rbf', 'coef0': 0} complete.\n",
      "kSVM {'C': 0.75, 'kernel': 'poly', 'coef0': 0} complete.\n",
      "kSVM {'C': 0.75, 'kernel': 'poly', 'coef0': 10} complete.\n",
      "kSVM {'C': 0.5, 'kernel': 'poly', 'coef0': 0} complete.\n",
      "kSVM {'C': 1, 'kernel': 'rbf', 'coef0': 0} complete.\n",
      "kSVM {'C': 1, 'kernel': 'rbf', 'coef0': 10} complete.\n",
      "kSVM {'C': 0.75, 'kernel': 'rbf', 'coef0': 10} complete.\n",
      "kSVM {'C': 2, 'kernel': 'rbf', 'coef0': 0} complete.\n",
      "kSVM {'C': 1, 'kernel': 'poly', 'coef0': 10} complete.\n",
      "kSVM {'C': 2, 'kernel': 'rbf', 'coef0': 10} complete.\n",
      "kSVM {'C': 1, 'kernel': 'poly', 'coef0': 0} complete.\n",
      "kSVM {'C': 4, 'kernel': 'rbf', 'coef0': 0} complete.\n",
      "kSVM {'C': 2, 'kernel': 'poly', 'coef0': 0} complete.\n",
      "kSVM {'C': 4, 'kernel': 'rbf', 'coef0': 10} complete.\n",
      "kSVM {'C': 2, 'kernel': 'poly', 'coef0': 10} complete.\n",
      "kSVM {'C': 8, 'kernel': 'rbf', 'coef0': 0} complete.\n",
      "kSVM {'C': 4, 'kernel': 'poly', 'coef0': 10} complete.\n",
      "kSVM {'C': 8, 'kernel': 'rbf', 'coef0': 10} complete.\n",
      "kSVM {'C': 4, 'kernel': 'poly', 'coef0': 0} complete.\n",
      "kSVM {'C': 8, 'kernel': 'poly', 'coef0': 0} complete.\n",
      "kSVM {'C': 16, 'kernel': 'rbf', 'coef0': 0} complete.\n",
      "kSVM {'C': 16, 'kernel': 'rbf', 'coef0': 10} complete.\n",
      "kSVM {'C': 8, 'kernel': 'poly', 'coef0': 10} complete.\n",
      "lSVM {'C': 0.125} complete.\n",
      "kSVM {'C': 16, 'kernel': 'poly', 'coef0': 0} complete.\n",
      "\n",
      "Conducting Bayesian optimization...\n"
     ]
    },
    {
     "name": "stderr",
     "output_type": "stream",
     "text": [
      "../automl/linalg.py:70: FutureWarning: `rcond` parameter will change to the default of machine precision times ``max(M, N)`` where M and N are the input matrix dimensions.\n",
      "To use the future default and silence this warning we advise to pass `rcond=None`, to keep using the old, explicitly pass `rcond=-1`.\n",
      "  x = np.linalg.lstsq(y[:, known_indices].T, a[:, known_indices].T)[0].T\n"
     ]
    },
    {
     "name": "stdout",
     "output_type": "stream",
     "text": [
      "\n",
      "Fitting optimized ensemble...\n",
      "GBT {'learning_rate': 0.001, 'max_depth': 6, 'max_features': 'log2'} complete.\n",
      "GBT {'learning_rate': 0.001, 'max_depth': 6, 'max_features': 'log2'} complete.\n",
      "GBT {'learning_rate': 0.001, 'max_depth': 3, 'max_features': 'log2'} complete.\n",
      "GBT {'learning_rate': 0.001, 'max_depth': 3, 'max_features': 'log2'} complete.\n",
      "kSVM {'C': 1, 'kernel': 'rbf', 'coef0': 10} complete.\n",
      "kSVM {'C': 1, 'kernel': 'rbf', 'coef0': 10} complete.\n",
      "\n",
      "AutoLearner fitting complete.\n"
     ]
    }
   ],
   "source": [
    "#meta-training\n",
    "m.fit(x_train, y_train)"
   ]
  },
  {
   "cell_type": "code",
   "execution_count": 6,
   "metadata": {},
   "outputs": [
    {
     "name": "stdout",
     "output_type": "stream",
     "text": [
      "Accuracy = 0.9666666666666667\n"
     ]
    }
   ],
   "source": [
    "#meta-testing\n",
    "y_pred = m.predict(x_test)\n",
    "print('Accuracy = {}'.format(accuracy_score(y_test, y_pred)))"
   ]
  }
 ],
 "metadata": {
  "kernelspec": {
   "display_name": "Python 3",
   "language": "python",
   "name": "python3"
  },
  "language_info": {
   "codemirror_mode": {
    "name": "ipython",
    "version": 3
   },
   "file_extension": ".py",
   "mimetype": "text/x-python",
   "name": "python",
   "nbconvert_exporter": "python",
   "pygments_lexer": "ipython3",
   "version": "3.6.4"
  }
 },
 "nbformat": 4,
 "nbformat_minor": 2
}
