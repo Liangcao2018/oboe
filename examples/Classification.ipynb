{
 "cells": [
  {
   "cell_type": "code",
   "execution_count": 1,
   "metadata": {},
   "outputs": [],
   "source": [
    "#import lowrank-automl modules\n",
    "import sys\n",
    "sys.path.insert(1, '../automl/')\n",
    "from auto_learner import AutoLearner\n",
    "\n",
    "#import libraries\n",
    "import numpy as np\n",
    "\n",
    "#import scikit-learn modules\n",
    "from sklearn.datasets import load_iris\n",
    "from sklearn.model_selection import train_test_split\n",
    "from sklearn.metrics import accuracy_score"
   ]
  },
  {
   "cell_type": "code",
   "execution_count": 2,
   "metadata": {},
   "outputs": [],
   "source": [
    "#load the json file containing algorithm and hyperparameter configurations\n",
    "import json\n",
    "with open('../automl/defaults/classification.json') as f:\n",
    "    configs = json.load(f)"
   ]
  },
  {
   "cell_type": "code",
   "execution_count": 3,
   "metadata": {},
   "outputs": [],
   "source": [
    "#load dataset for meta-training and meta-testing\n",
    "data = load_iris()\n",
    "x = np.array(data['data'])\n",
    "y = np.array(data['target'])\n",
    "x_train, x_test, y_train, y_test = train_test_split(x, y, test_size=0.2)"
   ]
  },
  {
   "cell_type": "code",
   "execution_count": 6,
   "metadata": {
    "scrolled": true
   },
   "outputs": [],
   "source": [
    "#create AutoLearner instance\n",
    "m = AutoLearner('classification', algorithms=configs['algorithms'], hyperparameters=configs['hyperparameters'], verbose=True, selection_method='min_variance', cvxopt_package='scipy', runtime_limit=50)"
   ]
  },
  {
   "cell_type": "code",
   "execution_count": 7,
   "metadata": {
    "scrolled": true
   },
   "outputs": [
    {
     "name": "stdout",
     "output_type": "stream",
     "text": [
      "[  4  10  11  12  13  14  15  16  17  18  19  20  21  22  23  32  33  34\n",
      "  35  36  37  38  39  40  41  42  43  55  82  83  84  85  86  87  88  89\n",
      "  90  91  92  93  94  95  96  97  98 100 104 108 112 116 120 124 128 143\n",
      " 152 153 154 155 156 157 158 159 160 161 162 163 174 175 176 177 178 179\n",
      " 180 181 182 183 184 185 186 187 188 189 190 191 192 193 194 195 196 197\n",
      " 198 199 200 201 202 203 204 205 206 207 208 210]\n",
      "Sampling 102 entries of new row...\n",
      "DT {'min_samples_split': 4} complete.\n",
      "DT {'min_samples_split': 2} complete.\n",
      "DT {'min_samples_split': 16} complete.\n",
      "DT {'min_samples_split': 8} complete.\n",
      "DT {'min_samples_split': 32} complete.\n",
      "DT {'min_samples_split': 64} complete.\n",
      "DT {'min_samples_split': 128} complete.\n",
      "DT {'min_samples_split': 256} complete.\n",
      "DT {'min_samples_split': 512} complete.\n",
      "DT {'min_samples_split': 1024} complete.\n",
      "DT {'min_samples_split': 0.01} complete.\n",
      "DT {'min_samples_split': 0.0001} complete.\n",
      "DT {'min_samples_split': 0.001} complete.\n",
      "DT {'min_samples_split': 1e-05} complete.\n",
      "ExtraTrees {'min_samples_split': 32, 'criterion': 'entropy'} complete.\n",
      "ExtraTrees {'min_samples_split': 64, 'criterion': 'gini'} complete.\n",
      "ExtraTrees {'min_samples_split': 32, 'criterion': 'gini'} complete.\n",
      "ExtraTrees {'min_samples_split': 64, 'criterion': 'entropy'} complete.\n",
      "ExtraTrees {'min_samples_split': 128, 'criterion': 'gini'} complete.\n",
      "ExtraTrees {'min_samples_split': 128, 'criterion': 'entropy'} complete.\n",
      "ExtraTrees {'min_samples_split': 256, 'criterion': 'entropy'} complete.\n",
      "ExtraTrees {'min_samples_split': 256, 'criterion': 'gini'} complete.\n",
      "ExtraTrees {'min_samples_split': 512, 'criterion': 'gini'} complete.\n",
      "ExtraTrees {'min_samples_split': 512, 'criterion': 'entropy'} complete.\n",
      "ExtraTrees {'min_samples_split': 1024, 'criterion': 'entropy'} complete.\n",
      "GNB {} complete.\n",
      "KNN {'n_neighbors': 1, 'p': 1} complete.\n",
      "ExtraTrees {'min_samples_split': 1024, 'criterion': 'gini'} complete.\n",
      "KNN {'n_neighbors': 1, 'p': 2} complete.\n",
      "KNN {'n_neighbors': 3, 'p': 1} complete.\n",
      "KNN {'n_neighbors': 3, 'p': 2} complete.\n",
      "AB {'n_estimators': 50, 'learning_rate': 3} complete.\n",
      "KNN {'n_neighbors': 5, 'p': 1} complete.\n",
      "KNN {'n_neighbors': 5, 'p': 2} complete.\n",
      "KNN {'n_neighbors': 7, 'p': 2} complete.\n",
      "KNN {'n_neighbors': 7, 'p': 1} complete.\n",
      "KNN {'n_neighbors': 9, 'p': 1} complete.\n",
      "KNN {'n_neighbors': 9, 'p': 2} complete.\n",
      "KNN {'n_neighbors': 11, 'p': 2} complete.\n",
      "KNN {'n_neighbors': 11, 'p': 1} complete.\n",
      "KNN {'n_neighbors': 15, 'p': 1} complete.\n",
      "KNN {'n_neighbors': 13, 'p': 2} complete.\n",
      "KNN {'n_neighbors': 13, 'p': 1} complete.\n",
      "Logit {'C': 0.25, 'solver': 'liblinear', 'penalty': 'l2'} complete.\n",
      "Logit {'C': 0.5, 'solver': 'liblinear', 'penalty': 'l2'} complete.\n",
      "KNN {'n_neighbors': 15, 'p': 2} complete.\n",
      "Logit {'C': 1, 'solver': 'liblinear', 'penalty': 'l2'} complete.\n",
      "Logit {'C': 1.5, 'solver': 'liblinear', 'penalty': 'l2'} complete.\n",
      "Logit {'C': 2, 'solver': 'liblinear', 'penalty': 'l2'} complete.\n",
      "Logit {'C': 3, 'solver': 'liblinear', 'penalty': 'l2'} complete.\n",
      "Logit {'C': 4, 'solver': 'liblinear', 'penalty': 'l2'} complete.\n"
     ]
    },
    {
     "name": "stderr",
     "output_type": "stream",
     "text": [
      "/anaconda3/lib/python3.6/site-packages/sklearn/linear_model/stochastic_gradient.py:128: FutureWarning: max_iter and tol parameters have been added in <class 'sklearn.linear_model.perceptron.Perceptron'> in 0.19. If both are left unset, they default to max_iter=5 and tol=None. If tol is not None, max_iter defaults to max_iter=1000. From 0.21, default max_iter will be 1000, and default tol will be 1e-3.\n",
      "  \"and default tol will be 1e-3.\" % type(self), FutureWarning)\n"
     ]
    },
    {
     "name": "stdout",
     "output_type": "stream",
     "text": [
      "Perceptron {} complete.\n",
      "Logit {'C': 0.75, 'solver': 'liblinear', 'penalty': 'l2'} complete.\n",
      "RF {'min_samples_split': 64, 'criterion': 'gini'} complete.\n",
      "RF {'min_samples_split': 32, 'criterion': 'gini'} complete.\n",
      "RF {'min_samples_split': 32, 'criterion': 'entropy'} complete.\n",
      "RF {'min_samples_split': 64, 'criterion': 'entropy'} complete.\n",
      "RF {'min_samples_split': 128, 'criterion': 'gini'} complete.\n",
      "RF {'min_samples_split': 128, 'criterion': 'entropy'} complete.\n",
      "RF {'min_samples_split': 256, 'criterion': 'gini'} complete.\n",
      "RF {'min_samples_split': 256, 'criterion': 'entropy'} complete.\n",
      "RF {'min_samples_split': 512, 'criterion': 'gini'} complete.\n",
      "RF {'min_samples_split': 512, 'criterion': 'entropy'} complete.\n",
      "kSVM {'C': 0.125, 'kernel': 'rbf', 'coef0': 0} complete.\n",
      "kSVM {'C': 0.125, 'kernel': 'rbf', 'coef0': 10} complete.\n",
      "kSVM {'C': 0.125, 'kernel': 'poly', 'coef0': 0} complete.\n",
      "kSVM {'C': 0.125, 'kernel': 'poly', 'coef0': 10} complete.\n",
      "kSVM {'C': 0.25, 'kernel': 'rbf', 'coef0': 0} complete.\n",
      "kSVM {'C': 0.25, 'kernel': 'rbf', 'coef0': 10} complete.\n",
      "kSVM {'C': 0.25, 'kernel': 'poly', 'coef0': 0} complete.\n",
      "kSVM {'C': 0.25, 'kernel': 'poly', 'coef0': 10} complete.\n",
      "kSVM {'C': 0.5, 'kernel': 'rbf', 'coef0': 0} complete.\n",
      "kSVM {'C': 0.5, 'kernel': 'rbf', 'coef0': 10} complete.\n",
      "RF {'min_samples_split': 1024, 'criterion': 'gini'} complete.\n",
      "kSVM {'C': 0.5, 'kernel': 'poly', 'coef0': 0} complete.\n",
      "kSVM {'C': 0.5, 'kernel': 'poly', 'coef0': 10} complete.\n",
      "kSVM {'C': 0.75, 'kernel': 'rbf', 'coef0': 0} complete.\n",
      "kSVM {'C': 0.75, 'kernel': 'rbf', 'coef0': 10} complete.\n",
      "kSVM {'C': 0.75, 'kernel': 'poly', 'coef0': 0} complete.\n",
      "kSVM {'C': 0.75, 'kernel': 'poly', 'coef0': 10} complete.\n",
      "kSVM {'C': 1, 'kernel': 'rbf', 'coef0': 0} complete.\n",
      "kSVM {'C': 1, 'kernel': 'rbf', 'coef0': 10} complete.\n",
      "kSVM {'C': 1, 'kernel': 'poly', 'coef0': 0} complete.\n",
      "kSVM {'C': 1, 'kernel': 'poly', 'coef0': 10} complete.\n",
      "kSVM {'C': 2, 'kernel': 'rbf', 'coef0': 0} complete.\n",
      "kSVM {'C': 2, 'kernel': 'rbf', 'coef0': 10} complete.\n",
      "kSVM {'C': 2, 'kernel': 'poly', 'coef0': 0} complete.\n",
      "kSVM {'C': 2, 'kernel': 'poly', 'coef0': 10} complete.\n",
      "kSVM {'C': 4, 'kernel': 'rbf', 'coef0': 0} complete.\n",
      "RF {'min_samples_split': 1024, 'criterion': 'entropy'} complete.\n",
      "kSVM {'C': 4, 'kernel': 'poly', 'coef0': 0} complete.\n",
      "kSVM {'C': 4, 'kernel': 'poly', 'coef0': 10} complete.\n",
      "kSVM {'C': 8, 'kernel': 'rbf', 'coef0': 0} complete.\n",
      "kSVM {'C': 8, 'kernel': 'poly', 'coef0': 0} complete.\n",
      "kSVM {'C': 8, 'kernel': 'rbf', 'coef0': 10} complete.\n",
      "kSVM {'C': 8, 'kernel': 'poly', 'coef0': 10} complete.\n",
      "kSVM {'C': 16, 'kernel': 'rbf', 'coef0': 0} complete.\n",
      "kSVM {'C': 4, 'kernel': 'rbf', 'coef0': 10} complete.\n",
      "kSVM {'C': 16, 'kernel': 'rbf', 'coef0': 10} complete.\n",
      "kSVM {'C': 16, 'kernel': 'poly', 'coef0': 0} complete.\n",
      "lSVM {'C': 0.125} complete.\n",
      "GBT {'learning_rate': 0.001, 'max_depth': 3, 'max_features': 'log2'} complete.\n",
      "\n",
      "Fitting optimized ensemble...\n",
      "kSVM {'C': 1, 'kernel': 'rbf', 'coef0': 10} complete.\n",
      "kSVM {'C': 1, 'kernel': 'rbf', 'coef0': 10} complete.\n",
      "kSVM {'C': 1, 'kernel': 'rbf', 'coef0': 0} complete.\n",
      "kSVM {'C': 1, 'kernel': 'rbf', 'coef0': 0} complete.\n",
      "kSVM {'C': 0.75, 'kernel': 'rbf', 'coef0': 0} complete.\n",
      "kSVM {'C': 0.75, 'kernel': 'rbf', 'coef0': 0} complete.\n",
      "\n",
      "AutoLearner fitting complete.\n"
     ]
    },
    {
     "name": "stderr",
     "output_type": "stream",
     "text": [
      "../automl/linalg.py:71: FutureWarning: `rcond` parameter will change to the default of machine precision times ``max(M, N)`` where M and N are the input matrix dimensions.\n",
      "To use the future default and silence this warning we advise to pass `rcond=None`, to keep using the old, explicitly pass `rcond=-1`.\n",
      "  x = np.linalg.lstsq(y[:, known_indices].T, a[:, known_indices].T)[0].T\n"
     ]
    }
   ],
   "source": [
    "#meta-training\n",
    "m.fit(x_train, y_train)"
   ]
  },
  {
   "cell_type": "code",
   "execution_count": 6,
   "metadata": {
    "scrolled": true
   },
   "outputs": [
    {
     "name": "stdout",
     "output_type": "stream",
     "text": [
      "Accuracy = 1.0\n"
     ]
    }
   ],
   "source": [
    "#meta-testing\n",
    "y_pred = m.predict(x_test)\n",
    "print('Accuracy = {}'.format(accuracy_score(y_test, y_pred)))"
   ]
  }
 ],
 "metadata": {
  "kernelspec": {
   "display_name": "Python 3",
   "language": "python",
   "name": "python3"
  },
  "language_info": {
   "codemirror_mode": {
    "name": "ipython",
    "version": 3
   },
   "file_extension": ".py",
   "mimetype": "text/x-python",
   "name": "python",
   "nbconvert_exporter": "python",
   "pygments_lexer": "ipython3",
   "version": "3.6.4"
  }
 },
 "nbformat": 4,
 "nbformat_minor": 2
}
