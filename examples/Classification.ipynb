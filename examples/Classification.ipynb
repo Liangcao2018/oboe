{
 "cells": [
  {
   "cell_type": "code",
   "execution_count": 1,
   "metadata": {},
   "outputs": [],
   "source": [
    "#import lowrank-automl modules\n",
    "import sys\n",
    "sys.path.insert(1, '../automl/')\n",
    "from auto_learner import AutoLearner\n",
    "\n",
    "#import libraries\n",
    "import numpy as np\n",
    "\n",
    "#import scikit-learn modules\n",
    "from sklearn.datasets import load_iris\n",
    "from sklearn.model_selection import train_test_split\n",
    "from sklearn.metrics import accuracy_score"
   ]
  },
  {
   "cell_type": "code",
   "execution_count": 2,
   "metadata": {},
   "outputs": [],
   "source": [
    "#load the json file containing algorithm and hyperparameter configurations\n",
    "import json\n",
    "with open('../automl/defaults/classification.json') as f:\n",
    "    configs = json.load(f)"
   ]
  },
  {
   "cell_type": "code",
   "execution_count": 3,
   "metadata": {},
   "outputs": [],
   "source": [
    "#load dataset for meta-training and meta-testing\n",
    "data = load_iris()\n",
    "x = np.array(data['data'])\n",
    "y = np.array(data['target'])\n",
    "x_train, x_test, y_train, y_test = train_test_split(x, y, test_size=0.2)"
   ]
  },
  {
   "cell_type": "code",
   "execution_count": 4,
   "metadata": {
    "scrolled": true
   },
   "outputs": [],
   "source": [
    "#create AutoLearner instance\n",
    "m = AutoLearner('classification', algorithms=configs['algorithms'], hyperparameters=configs['hyperparameters'], verbose=True, selection_method='min_variance', cvxopt_package='scipy', runtime_limit=50)"
   ]
  },
  {
   "cell_type": "code",
   "execution_count": 5,
   "metadata": {
    "scrolled": true
   },
   "outputs": [
    {
     "name": "stdout",
     "output_type": "stream",
     "text": [
      "Sampling 102 entries of new row...\n",
      "DT {'min_samples_split': 4} complete.\n",
      "DT {'min_samples_split': 2} complete.\n",
      "DT {'min_samples_split': 8} complete.\n",
      "DT {'min_samples_split': 16} complete.\n",
      "DT {'min_samples_split': 32} complete.\n",
      "DT {'min_samples_split': 64} complete.\n",
      "DT {'min_samples_split': 128} complete.\n",
      "DT {'min_samples_split': 512} complete.\n",
      "DT {'min_samples_split': 256} complete.\n",
      "DT {'min_samples_split': 1024} complete.\n",
      "DT {'min_samples_split': 0.01} complete.\n",
      "DT {'min_samples_split': 0.001} complete.\n",
      "DT {'min_samples_split': 0.0001} complete.\n",
      "DT {'min_samples_split': 1e-05} complete.\n",
      "ExtraTrees {'min_samples_split': 32, 'criterion': 'entropy'} complete.\n",
      "ExtraTrees {'min_samples_split': 32, 'criterion': 'gini'} complete.\n",
      "ExtraTrees {'min_samples_split': 64, 'criterion': 'gini'} complete.\n",
      "ExtraTrees {'min_samples_split': 128, 'criterion': 'gini'} complete.\n",
      "ExtraTrees {'min_samples_split': 64, 'criterion': 'entropy'} complete.\n",
      "ExtraTrees {'min_samples_split': 128, 'criterion': 'entropy'} complete.\n",
      "ExtraTrees {'min_samples_split': 256, 'criterion': 'gini'} complete.\n",
      "ExtraTrees {'min_samples_split': 256, 'criterion': 'entropy'} complete.\n",
      "ExtraTrees {'min_samples_split': 512, 'criterion': 'gini'} complete.\n",
      "ExtraTrees {'min_samples_split': 1024, 'criterion': 'gini'} complete.\n",
      "ExtraTrees {'min_samples_split': 1024, 'criterion': 'entropy'} complete.\n",
      "ExtraTrees {'min_samples_split': 512, 'criterion': 'entropy'} complete.\n",
      "GNB {} complete.\n",
      "KNN {'n_neighbors': 1, 'p': 1} complete.\n",
      "KNN {'n_neighbors': 1, 'p': 2} complete.\n",
      "KNN {'n_neighbors': 3, 'p': 1} complete.\n",
      "KNN {'n_neighbors': 3, 'p': 2} complete.\n",
      "KNN {'n_neighbors': 5, 'p': 1} complete.\n",
      "AB {'n_estimators': 50, 'learning_rate': 3} complete.\n",
      "KNN {'n_neighbors': 7, 'p': 1} complete.\n",
      "KNN {'n_neighbors': 5, 'p': 2} complete.\n",
      "KNN {'n_neighbors': 9, 'p': 1} complete.\n",
      "KNN {'n_neighbors': 9, 'p': 2} complete.\n",
      "KNN {'n_neighbors': 11, 'p': 1} complete.\n",
      "KNN {'n_neighbors': 7, 'p': 2} complete.\n",
      "KNN {'n_neighbors': 11, 'p': 2} complete.\n",
      "KNN {'n_neighbors': 13, 'p': 2} complete.\n",
      "KNN {'n_neighbors': 15, 'p': 1} complete.\n",
      "KNN {'n_neighbors': 13, 'p': 1} complete.\n",
      "KNN {'n_neighbors': 15, 'p': 2} complete.\n",
      "Logit {'C': 0.25, 'solver': 'liblinear', 'penalty': 'l2'} complete.\n",
      "Logit {'C': 1, 'solver': 'liblinear', 'penalty': 'l2'} complete.\n",
      "Logit {'C': 0.5, 'solver': 'liblinear', 'penalty': 'l2'} complete.\n",
      "Logit {'C': 0.75, 'solver': 'liblinear', 'penalty': 'l2'} complete.\n",
      "Logit {'C': 2, 'solver': 'liblinear', 'penalty': 'l2'} complete.\n",
      "Logit {'C': 3, 'solver': 'liblinear', 'penalty': 'l2'} complete.\n",
      "Logit {'C': 1.5, 'solver': 'liblinear', 'penalty': 'l2'} complete.\n",
      "Logit {'C': 4, 'solver': 'liblinear', 'penalty': 'l2'} complete.\n"
     ]
    },
    {
     "name": "stderr",
     "output_type": "stream",
     "text": [
      "/anaconda3/lib/python3.6/site-packages/sklearn/linear_model/stochastic_gradient.py:128: FutureWarning: max_iter and tol parameters have been added in <class 'sklearn.linear_model.perceptron.Perceptron'> in 0.19. If both are left unset, they default to max_iter=5 and tol=None. If tol is not None, max_iter defaults to max_iter=1000. From 0.21, default max_iter will be 1000, and default tol will be 1e-3.\n",
      "  \"and default tol will be 1e-3.\" % type(self), FutureWarning)\n"
     ]
    },
    {
     "name": "stdout",
     "output_type": "stream",
     "text": [
      "Perceptron {} complete.\n",
      "RF {'min_samples_split': 32, 'criterion': 'gini'} complete.\n",
      "RF {'min_samples_split': 32, 'criterion': 'entropy'} complete.\n",
      "RF {'min_samples_split': 64, 'criterion': 'gini'} complete.\n",
      "RF {'min_samples_split': 128, 'criterion': 'gini'} complete.\n",
      "RF {'min_samples_split': 128, 'criterion': 'entropy'} complete.\n",
      "RF {'min_samples_split': 64, 'criterion': 'entropy'} complete.\n",
      "RF {'min_samples_split': 256, 'criterion': 'gini'} complete.\n",
      "RF {'min_samples_split': 256, 'criterion': 'entropy'} complete.\n",
      "RF {'min_samples_split': 512, 'criterion': 'gini'} complete.\n",
      "RF {'min_samples_split': 512, 'criterion': 'entropy'} complete.\n",
      "RF {'min_samples_split': 1024, 'criterion': 'gini'} complete.\n",
      "RF {'min_samples_split': 1024, 'criterion': 'entropy'} complete.\n",
      "kSVM {'C': 0.125, 'kernel': 'rbf', 'coef0': 0} complete.\n",
      "kSVM {'C': 0.125, 'kernel': 'poly', 'coef0': 0} complete.\n",
      "kSVM {'C': 0.125, 'kernel': 'rbf', 'coef0': 10} complete.\n",
      "kSVM {'C': 0.25, 'kernel': 'rbf', 'coef0': 0} complete.\n",
      "kSVM {'C': 0.25, 'kernel': 'rbf', 'coef0': 10} complete.\n",
      "kSVM {'C': 0.25, 'kernel': 'poly', 'coef0': 0} complete.\n",
      "kSVM {'C': 0.125, 'kernel': 'poly', 'coef0': 10} complete.\n",
      "kSVM {'C': 0.25, 'kernel': 'poly', 'coef0': 10} complete.\n",
      "kSVM {'C': 0.5, 'kernel': 'rbf', 'coef0': 10} complete.\n",
      "kSVM {'C': 0.5, 'kernel': 'rbf', 'coef0': 0} complete.\n",
      "kSVM {'C': 0.5, 'kernel': 'poly', 'coef0': 0} complete.\n",
      "kSVM {'C': 0.5, 'kernel': 'poly', 'coef0': 10} complete.\n",
      "kSVM {'C': 0.75, 'kernel': 'rbf', 'coef0': 0} complete.\n",
      "kSVM {'C': 0.75, 'kernel': 'poly', 'coef0': 0} complete.\n",
      "kSVM {'C': 0.75, 'kernel': 'rbf', 'coef0': 10} complete.\n",
      "kSVM {'C': 1, 'kernel': 'rbf', 'coef0': 0} complete.\n",
      "kSVM {'C': 0.75, 'kernel': 'poly', 'coef0': 10} complete.\n",
      "kSVM {'C': 1, 'kernel': 'rbf', 'coef0': 10} complete.\n",
      "kSVM {'C': 1, 'kernel': 'poly', 'coef0': 0} complete.\n",
      "kSVM {'C': 2, 'kernel': 'rbf', 'coef0': 0} complete.\n",
      "kSVM {'C': 1, 'kernel': 'poly', 'coef0': 10} complete.\n",
      "kSVM {'C': 2, 'kernel': 'poly', 'coef0': 0} complete.\n",
      "kSVM {'C': 2, 'kernel': 'rbf', 'coef0': 10} complete.\n",
      "kSVM {'C': 2, 'kernel': 'poly', 'coef0': 10} complete.\n",
      "kSVM {'C': 4, 'kernel': 'rbf', 'coef0': 0} complete.\n",
      "kSVM {'C': 4, 'kernel': 'rbf', 'coef0': 10} complete.\n",
      "kSVM {'C': 8, 'kernel': 'rbf', 'coef0': 0} complete.\n",
      "kSVM {'C': 8, 'kernel': 'rbf', 'coef0': 10} complete.\n",
      "kSVM {'C': 4, 'kernel': 'poly', 'coef0': 0} complete.\n",
      "kSVM {'C': 4, 'kernel': 'poly', 'coef0': 10} complete.\n",
      "kSVM {'C': 8, 'kernel': 'poly', 'coef0': 0} complete.\n",
      "kSVM {'C': 8, 'kernel': 'poly', 'coef0': 10} complete.\n",
      "kSVM {'C': 16, 'kernel': 'rbf', 'coef0': 10} complete.\n",
      "kSVM {'C': 16, 'kernel': 'rbf', 'coef0': 0} complete.\n",
      "lSVM {'C': 0.125} complete.\n",
      "kSVM {'C': 16, 'kernel': 'poly', 'coef0': 0} complete.\n",
      "GBT {'learning_rate': 0.001, 'max_depth': 3, 'max_features': 'log2'} complete.\n",
      "\n",
      "Fitting optimized ensemble...\n",
      "kSVM {'C': 1, 'kernel': 'rbf', 'coef0': 10} complete.\n",
      "kSVM {'C': 1, 'kernel': 'rbf', 'coef0': 10} complete.\n",
      "kSVM {'C': 1, 'kernel': 'rbf', 'coef0': 0} complete.\n",
      "kSVM {'C': 1, 'kernel': 'rbf', 'coef0': 0} complete.\n",
      "kSVM {'C': 0.75, 'kernel': 'rbf', 'coef0': 10} complete.\n",
      "kSVM {'C': 0.75, 'kernel': 'rbf', 'coef0': 10} complete.\n",
      "\n",
      "AutoLearner fitting complete.\n"
     ]
    }
   ],
   "source": [
    "#meta-training\n",
    "m.fit(x_train, y_train)"
   ]
  },
  {
   "cell_type": "code",
   "execution_count": 6,
   "metadata": {
    "scrolled": true
   },
   "outputs": [
    {
     "name": "stdout",
     "output_type": "stream",
     "text": [
      "Accuracy = 1.0\n"
     ]
    }
   ],
   "source": [
    "#meta-testing\n",
    "y_pred = m.predict(x_test)\n",
    "print('Accuracy = {}'.format(accuracy_score(y_test, y_pred)))"
   ]
  }
 ],
 "metadata": {
  "kernelspec": {
   "display_name": "Python 3",
   "language": "python",
   "name": "python3"
  },
  "language_info": {
   "codemirror_mode": {
    "name": "ipython",
    "version": 3
   },
   "file_extension": ".py",
   "mimetype": "text/x-python",
   "name": "python",
   "nbconvert_exporter": "python",
   "pygments_lexer": "ipython3",
   "version": "3.6.4"
  }
 },
 "nbformat": 4,
 "nbformat_minor": 2
}
