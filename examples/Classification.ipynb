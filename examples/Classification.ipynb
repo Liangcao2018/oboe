{
 "cells": [
  {
   "cell_type": "code",
   "execution_count": 1,
   "metadata": {},
   "outputs": [],
   "source": [
    "#import lowrank-automl modules\n",
    "import sys\n",
    "sys.path.insert(1, '../automl/')\n",
    "from auto_learner import AutoLearner\n",
    "\n",
    "#import libraries\n",
    "import numpy as np\n",
    "\n",
    "#import scikit-learn modules\n",
    "from sklearn.datasets import load_iris\n",
    "from sklearn.model_selection import train_test_split\n",
    "from sklearn.metrics import accuracy_score"
   ]
  },
  {
   "cell_type": "code",
   "execution_count": 2,
   "metadata": {},
   "outputs": [],
   "source": [
    "#load the json file containing algorithm and hyperparameter configurations\n",
    "import json\n",
    "with open('../automl/defaults/models.json') as f:\n",
    "    configs = json.load(f)"
   ]
  },
  {
   "cell_type": "code",
   "execution_count": 3,
   "metadata": {},
   "outputs": [],
   "source": [
    "#load dataset for meta-training and meta-testing\n",
    "data = load_iris()\n",
    "x = np.array(data['data'])\n",
    "y = np.array(data['target'])\n",
    "x_train, x_test, y_train, y_test = train_test_split(x, y, test_size=0.2)"
   ]
  },
  {
   "cell_type": "code",
   "execution_count": 4,
   "metadata": {
    "scrolled": true
   },
   "outputs": [],
   "source": [
    "#create AutoLearner instance\n",
    "m = AutoLearner('classification', algorithms=configs['algorithms'], hyperparameters=configs['hyperparameters'], verbose=True, selection_method='min_variance', runtime_limit=50)\n"
   ]
  },
  {
   "cell_type": "code",
   "execution_count": 5,
   "metadata": {
    "scrolled": false
   },
   "outputs": [
    {
     "name": "stdout",
     "output_type": "stream",
     "text": [
      "Data=(120, 4)\n"
     ]
    },
    {
     "name": "stderr",
     "output_type": "stream",
     "text": [
      "../automl/convex_opt.py:144: RuntimeWarning: divide by zero encountered in true_divide\n",
      "  return -np.log(1/x - 1)\n",
      "../automl/convex_opt.py:144: RuntimeWarning: divide by zero encountered in log\n",
      "  return -np.log(1/x - 1)\n"
     ]
    },
    {
     "name": "stdout",
     "output_type": "stream",
     "text": [
      "[ 4.43615980e+00  1.41087703e+01  2.34306769e+01  2.12492212e+01\n",
      "  2.41320900e+01 -9.55932061e+00 -1.43414941e+01  9.85532672e+00\n",
      "  6.37352213e+01  4.80239902e+01 -1.85583357e+00 -2.38037152e+00\n",
      " -2.95682076e+00 -2.60951538e+00 -2.69891250e+00 -1.35620478e+00\n",
      " -1.57003637e+00 -1.20894108e+00 -2.65702336e+00 -2.84662270e+00\n",
      " -2.21575693e+00 -2.08796102e+00 -1.38397040e+00 -1.48827204e+00\n",
      "  8.55036653e-01  9.11666950e-01  8.69237092e-01  9.05026858e-01\n",
      "  8.59412059e-01  8.43126817e-01  8.08851172e-01  8.38632159e-01\n",
      "  8.22906939e-01  8.37022680e-01  7.97006198e-01  7.62266927e-01\n",
      "  7.78018608e-01  7.68452491e-01  7.30158022e-01  7.95070338e-01\n",
      "  7.82855869e-01  7.95449039e-01  8.00726929e-01  7.88394407e-01\n",
      "  8.22712353e-01  8.59630974e-01  9.01496549e-01  9.19415050e-01\n",
      "  9.10193900e-01  8.70968367e-01  8.20679192e-01  8.74980176e-01\n",
      "  8.78809737e-01  9.61151151e-01  2.69334852e+02  4.22043803e+01\n",
      "  3.01638016e+02  5.48239072e+01  2.88078912e+02  4.37536478e+01\n",
      "  4.04052891e+02  6.63091765e+01  2.79729392e+02  4.27272735e+01\n",
      "  4.40753551e+02  5.91704941e+01  2.38759966e+02  3.95287613e+01\n",
      "  2.65243876e+02  5.75869722e+01  1.73371900e+02  3.66686473e+01\n",
      "  1.71967290e+02  4.55714961e+01  5.48908727e+01  3.36330743e+01\n",
      "  8.67197619e+01  3.84822081e+01  6.32250150e+01  3.54961463e+01\n",
      "  9.33969028e+01  3.94848023e+01  9.77552040e-02 -2.79813342e-02\n",
      " -2.30056776e-01 -2.05714347e-02  3.91478401e-02  9.38753104e-02\n",
      " -9.47452848e-02  3.00899054e-02 -5.79802805e-02 -7.09046394e-03\n",
      "  7.19946379e-03  3.75765086e-02  6.87580589e-02  1.27188702e-01\n",
      "  2.15336576e-01  2.08314614e-01  2.31307053e-01  2.46233123e+00\n",
      "  3.77957842e+00  3.38841955e+01  2.43373167e+01  4.60955811e+00\n",
      "  5.90329453e+00  2.74777581e+01  3.51192533e+01  7.72132933e+00\n",
      "  9.50624285e+00  5.44810712e+01  2.94208829e+01  7.20266349e+00\n",
      "  9.19826029e+00  5.83161417e+01  4.85013107e+01  1.16859525e+01\n",
      "  1.08452634e+01  5.14897903e+01  3.81895221e+01  1.35879373e+01\n",
      "  7.92446578e+00  3.63688976e+01  2.36298271e+01  1.75070648e+01\n",
      "  9.77062932e+00  6.67294772e+01  2.97371943e+01  2.33268004e+01\n",
      "  8.73433214e+00  2.52811898e+01  1.51345708e+01  7.49002006e+01\n",
      "  5.85956831e+01  8.61971859e+01  8.67779348e+01  7.91800722e+01\n",
      "  8.17734547e+01  4.82661461e+01  4.95418724e+01  5.92646637e+01\n",
      "  5.90740141e+01  2.08194608e+01  1.39704321e+01  3.49340197e-01\n",
      "  1.14385856e+00  1.28397667e+00  1.05613851e+00  1.18856862e+00\n",
      "  1.04662928e+00  1.21141560e+00  9.60932067e-01  1.11485525e+00\n",
      "  1.03046048e+00  1.17580304e+00  9.91022285e-01  1.10703578e+00\n",
      "  1.03366978e+00  1.11819622e+00  9.19280273e-01  9.45980208e-01\n",
      "  8.58522455e-01  9.26486487e-01  1.03977763e+00  1.01944059e+00\n",
      "  9.98396464e-01  1.13350686e+00  1.08231257e+00  1.16441850e+00\n",
      "  1.13779858e+00  1.26673839e+00  1.13268396e+00  1.24294280e+00\n",
      "  1.08252959e+00  1.15174364e+00  2.90399913e+00  2.17067933e+00\n",
      "  2.22790805e+00  7.92090923e-01  1.99066678e+00  2.55681731e+00\n",
      "  2.41977964e+00 -2.00281318e+00  2.35494853e+00  2.17617369e+00\n",
      "  1.97539781e+00 -1.56884418e+01  2.26641530e+00  2.12512541e+00\n",
      "  1.64720729e+00 -2.64016379e+01  2.52741904e+00  2.52401293e+00\n",
      "  2.88618181e+00 -2.65577773e+01  3.23737006e+00  3.09463570e+00\n",
      "  2.79734279e+00 -2.23698922e+01  3.18970555e+00  3.68085827e+00\n",
      "  4.27652795e+00 -2.28095278e+01  3.64425721e+00  3.23942289e+00\n",
      "  1.56754900e+01 -2.39774592e+01  3.40753066e+00  3.08801703e+00\n",
      "  4.86787672e+01 -3.81604855e+01 -1.10762419e+01 -8.85616712e+00\n",
      " -6.57799648e+00 -3.53410487e+00 -3.89944162e+00 -1.60105635e+00\n",
      " -1.66421382e+00 -3.64217193e+00 -5.40121669e+00]\n",
      "Failure:Interrupted\n"
     ]
    },
    {
     "ename": "KeyError",
     "evalue": "'Interrupted'",
     "output_type": "error",
     "traceback": [
      "\u001b[0;31m---------------------------------------------------------------------------\u001b[0m",
      "\u001b[0;31mKeyError\u001b[0m                                  Traceback (most recent call last)",
      "\u001b[0;32m<ipython-input-5-67d8c4a21728>\u001b[0m in \u001b[0;36m<module>\u001b[0;34m()\u001b[0m\n\u001b[1;32m      1\u001b[0m \u001b[0;31m#meta-training\u001b[0m\u001b[0;34m\u001b[0m\u001b[0;34m\u001b[0m\u001b[0m\n\u001b[0;32m----> 2\u001b[0;31m \u001b[0mm\u001b[0m\u001b[0;34m.\u001b[0m\u001b[0mfit\u001b[0m\u001b[0;34m(\u001b[0m\u001b[0mx_train\u001b[0m\u001b[0;34m,\u001b[0m \u001b[0my_train\u001b[0m\u001b[0;34m)\u001b[0m\u001b[0;34m\u001b[0m\u001b[0m\n\u001b[0m",
      "\u001b[0;32m~/Documents/lowrank-automl/automl/auto_learner.py\u001b[0m in \u001b[0;36mfit\u001b[0;34m(self, x_train, y_train)\u001b[0m\n\u001b[1;32m     96\u001b[0m             \u001b[0mruntime_predict\u001b[0m \u001b[0;34m=\u001b[0m \u001b[0mconvex_opt\u001b[0m\u001b[0;34m.\u001b[0m\u001b[0mruntime_prediction_via_poly_fitting\u001b[0m\u001b[0;34m(\u001b[0m\u001b[0mself\u001b[0m\u001b[0;34m.\u001b[0m\u001b[0mdataset_sizes\u001b[0m\u001b[0;34m,\u001b[0m \u001b[0;36m3\u001b[0m\u001b[0;34m,\u001b[0m \u001b[0mself\u001b[0m\u001b[0;34m.\u001b[0m\u001b[0mruntime_matrix\u001b[0m\u001b[0;34m,\u001b[0m \u001b[0mx_train\u001b[0m\u001b[0;34m,\u001b[0m \u001b[0mself\u001b[0m\u001b[0;34m.\u001b[0m\u001b[0mruntime_index\u001b[0m\u001b[0;34m)\u001b[0m\u001b[0;34m\u001b[0m\u001b[0m\n\u001b[1;32m     97\u001b[0m             \u001b[0mprint\u001b[0m\u001b[0;34m(\u001b[0m\u001b[0mruntime_predict\u001b[0m\u001b[0;34m)\u001b[0m\u001b[0;34m\u001b[0m\u001b[0m\n\u001b[0;32m---> 98\u001b[0;31m             \u001b[0mknown_indices\u001b[0m \u001b[0;34m=\u001b[0m \u001b[0mconvex_opt\u001b[0m\u001b[0;34m.\u001b[0m\u001b[0mmin_variance_model_selection\u001b[0m\u001b[0;34m(\u001b[0m\u001b[0mself\u001b[0m\u001b[0;34m.\u001b[0m\u001b[0mruntime_limit\u001b[0m\u001b[0;34m,\u001b[0m \u001b[0mruntime_predict\u001b[0m\u001b[0;34m,\u001b[0m \u001b[0mself\u001b[0m\u001b[0;34m.\u001b[0m\u001b[0merror_matrix\u001b[0m\u001b[0;34m)\u001b[0m\u001b[0;34m\u001b[0m\u001b[0m\n\u001b[0m\u001b[1;32m     99\u001b[0m \u001b[0;34m\u001b[0m\u001b[0m\n\u001b[1;32m    100\u001b[0m \u001b[0;34m\u001b[0m\u001b[0m\n",
      "\u001b[0;32m~/Documents/lowrank-automl/automl/convex_opt.py\u001b[0m in \u001b[0;36mmin_variance_model_selection\u001b[0;34m(runtime_limit, runtime_predict, error_matrix, threshold, bool_plot_solution_quality, relaxation_threshold)\u001b[0m\n\u001b[1;32m    212\u001b[0m     \u001b[0mconstraints\u001b[0m \u001b[0;34m+=\u001b[0m \u001b[0;34m[\u001b[0m\u001b[0mruntime_predict\u001b[0m\u001b[0;34m*\u001b[0m\u001b[0mλ\u001b[0m \u001b[0;34m<=\u001b[0m \u001b[0mruntime_limit\u001b[0m\u001b[0;34m]\u001b[0m\u001b[0;34m\u001b[0m\u001b[0m\n\u001b[1;32m    213\u001b[0m     \u001b[0mprob\u001b[0m \u001b[0;34m=\u001b[0m \u001b[0mProblem\u001b[0m\u001b[0;34m(\u001b[0m\u001b[0mobjective\u001b[0m\u001b[0;34m,\u001b[0m \u001b[0mconstraints\u001b[0m\u001b[0;34m)\u001b[0m\u001b[0;34m\u001b[0m\u001b[0m\n\u001b[0;32m--> 214\u001b[0;31m     \u001b[0mresult\u001b[0m \u001b[0;34m=\u001b[0m \u001b[0mprob\u001b[0m\u001b[0;34m.\u001b[0m\u001b[0msolve\u001b[0m\u001b[0;34m(\u001b[0m\u001b[0;34m)\u001b[0m\u001b[0;34m\u001b[0m\u001b[0m\n\u001b[0m\u001b[1;32m    215\u001b[0m     \u001b[0;31m#the solution to λ in numpy array format\u001b[0m\u001b[0;34m\u001b[0m\u001b[0;34m\u001b[0m\u001b[0m\n\u001b[1;32m    216\u001b[0m     \u001b[0mλ_sol\u001b[0m \u001b[0;34m=\u001b[0m \u001b[0mnp\u001b[0m\u001b[0;34m.\u001b[0m\u001b[0marray\u001b[0m\u001b[0;34m(\u001b[0m\u001b[0mλ\u001b[0m\u001b[0;34m.\u001b[0m\u001b[0mvalue\u001b[0m\u001b[0;34m)\u001b[0m\u001b[0;34m.\u001b[0m\u001b[0mT\u001b[0m\u001b[0;34m[\u001b[0m\u001b[0;36m0\u001b[0m\u001b[0;34m]\u001b[0m\u001b[0;34m\u001b[0m\u001b[0m\n",
      "\u001b[0;32m/anaconda3/lib/python3.6/site-packages/cvxpy/problems/problem.py\u001b[0m in \u001b[0;36msolve\u001b[0;34m(self, *args, **kwargs)\u001b[0m\n\u001b[1;32m    207\u001b[0m             \u001b[0;32mreturn\u001b[0m \u001b[0mfunc\u001b[0m\u001b[0;34m(\u001b[0m\u001b[0mself\u001b[0m\u001b[0;34m,\u001b[0m \u001b[0;34m*\u001b[0m\u001b[0margs\u001b[0m\u001b[0;34m,\u001b[0m \u001b[0;34m**\u001b[0m\u001b[0mkwargs\u001b[0m\u001b[0;34m)\u001b[0m\u001b[0;34m\u001b[0m\u001b[0m\n\u001b[1;32m    208\u001b[0m         \u001b[0;32melse\u001b[0m\u001b[0;34m:\u001b[0m\u001b[0;34m\u001b[0m\u001b[0m\n\u001b[0;32m--> 209\u001b[0;31m             \u001b[0;32mreturn\u001b[0m \u001b[0mself\u001b[0m\u001b[0;34m.\u001b[0m\u001b[0m_solve\u001b[0m\u001b[0;34m(\u001b[0m\u001b[0;34m*\u001b[0m\u001b[0margs\u001b[0m\u001b[0;34m,\u001b[0m \u001b[0;34m**\u001b[0m\u001b[0mkwargs\u001b[0m\u001b[0;34m)\u001b[0m\u001b[0;34m\u001b[0m\u001b[0m\n\u001b[0m\u001b[1;32m    210\u001b[0m \u001b[0;34m\u001b[0m\u001b[0m\n\u001b[1;32m    211\u001b[0m     \u001b[0;34m@\u001b[0m\u001b[0mclassmethod\u001b[0m\u001b[0;34m\u001b[0m\u001b[0m\n",
      "\u001b[0;32m/anaconda3/lib/python3.6/site-packages/cvxpy/problems/problem.py\u001b[0m in \u001b[0;36m_solve\u001b[0;34m(self, solver, ignore_dcp, warm_start, verbose, parallel, **kwargs)\u001b[0m\n\u001b[1;32m    329\u001b[0m             results_dict = solver.solve(objective, constraints,\n\u001b[1;32m    330\u001b[0m                                         \u001b[0mself\u001b[0m\u001b[0;34m.\u001b[0m\u001b[0m_cached_data\u001b[0m\u001b[0;34m,\u001b[0m \u001b[0mwarm_start\u001b[0m\u001b[0;34m,\u001b[0m \u001b[0mverbose\u001b[0m\u001b[0;34m,\u001b[0m\u001b[0;34m\u001b[0m\u001b[0m\n\u001b[0;32m--> 331\u001b[0;31m                                         kwargs)\n\u001b[0m\u001b[1;32m    332\u001b[0m         \u001b[0;31m# Presolve determined problem was unbounded or infeasible.\u001b[0m\u001b[0;34m\u001b[0m\u001b[0;34m\u001b[0m\u001b[0m\n\u001b[1;32m    333\u001b[0m         \u001b[0;32melse\u001b[0m\u001b[0;34m:\u001b[0m\u001b[0;34m\u001b[0m\u001b[0m\n",
      "\u001b[0;32m/anaconda3/lib/python3.6/site-packages/cvxpy/problems/solvers/scs_intf.py\u001b[0m in \u001b[0;36msolve\u001b[0;34m(self, objective, constraints, cached_data, warm_start, verbose, solver_opts)\u001b[0m\n\u001b[1;32m    106\u001b[0m \u001b[0;34m\u001b[0m\u001b[0m\n\u001b[1;32m    107\u001b[0m         \u001b[0mresults_dict\u001b[0m \u001b[0;34m=\u001b[0m \u001b[0mscs\u001b[0m\u001b[0;34m.\u001b[0m\u001b[0msolve\u001b[0m\u001b[0;34m(\u001b[0m\u001b[0mscs_args\u001b[0m\u001b[0;34m,\u001b[0m \u001b[0mdata\u001b[0m\u001b[0;34m[\u001b[0m\u001b[0ms\u001b[0m\u001b[0;34m.\u001b[0m\u001b[0mDIMS\u001b[0m\u001b[0;34m]\u001b[0m\u001b[0;34m,\u001b[0m \u001b[0;34m**\u001b[0m\u001b[0msolver_opts\u001b[0m\u001b[0;34m)\u001b[0m\u001b[0;34m\u001b[0m\u001b[0m\n\u001b[0;32m--> 108\u001b[0;31m         \u001b[0;32mreturn\u001b[0m \u001b[0mself\u001b[0m\u001b[0;34m.\u001b[0m\u001b[0mformat_results\u001b[0m\u001b[0;34m(\u001b[0m\u001b[0mresults_dict\u001b[0m\u001b[0;34m,\u001b[0m \u001b[0mdata\u001b[0m\u001b[0;34m,\u001b[0m \u001b[0mcached_data\u001b[0m\u001b[0;34m)\u001b[0m\u001b[0;34m\u001b[0m\u001b[0m\n\u001b[0m\u001b[1;32m    109\u001b[0m \u001b[0;34m\u001b[0m\u001b[0m\n\u001b[1;32m    110\u001b[0m     \u001b[0;32mdef\u001b[0m \u001b[0mformat_results\u001b[0m\u001b[0;34m(\u001b[0m\u001b[0mself\u001b[0m\u001b[0;34m,\u001b[0m \u001b[0mresults_dict\u001b[0m\u001b[0;34m,\u001b[0m \u001b[0mdata\u001b[0m\u001b[0;34m,\u001b[0m \u001b[0mcached_data\u001b[0m\u001b[0;34m)\u001b[0m\u001b[0;34m:\u001b[0m\u001b[0;34m\u001b[0m\u001b[0m\n",
      "\u001b[0;32m/anaconda3/lib/python3.6/site-packages/cvxpy/problems/solvers/scs_intf.py\u001b[0m in \u001b[0;36mformat_results\u001b[0;34m(self, results_dict, data, cached_data)\u001b[0m\n\u001b[1;32m    128\u001b[0m         \u001b[0mdims\u001b[0m \u001b[0;34m=\u001b[0m \u001b[0mdata\u001b[0m\u001b[0;34m[\u001b[0m\u001b[0ms\u001b[0m\u001b[0;34m.\u001b[0m\u001b[0mDIMS\u001b[0m\u001b[0;34m]\u001b[0m\u001b[0;34m\u001b[0m\u001b[0m\n\u001b[1;32m    129\u001b[0m         \u001b[0mnew_results\u001b[0m \u001b[0;34m=\u001b[0m \u001b[0;34m{\u001b[0m\u001b[0;34m}\u001b[0m\u001b[0;34m\u001b[0m\u001b[0m\n\u001b[0;32m--> 130\u001b[0;31m         \u001b[0mstatus\u001b[0m \u001b[0;34m=\u001b[0m \u001b[0mself\u001b[0m\u001b[0;34m.\u001b[0m\u001b[0mSTATUS_MAP\u001b[0m\u001b[0;34m[\u001b[0m\u001b[0mresults_dict\u001b[0m\u001b[0;34m[\u001b[0m\u001b[0;34m\"info\"\u001b[0m\u001b[0;34m]\u001b[0m\u001b[0;34m[\u001b[0m\u001b[0;34m\"status\"\u001b[0m\u001b[0;34m]\u001b[0m\u001b[0;34m]\u001b[0m\u001b[0;34m\u001b[0m\u001b[0m\n\u001b[0m\u001b[1;32m    131\u001b[0m         \u001b[0mnew_results\u001b[0m\u001b[0;34m[\u001b[0m\u001b[0ms\u001b[0m\u001b[0;34m.\u001b[0m\u001b[0mSTATUS\u001b[0m\u001b[0;34m]\u001b[0m \u001b[0;34m=\u001b[0m \u001b[0mstatus\u001b[0m\u001b[0;34m\u001b[0m\u001b[0m\n\u001b[1;32m    132\u001b[0m \u001b[0;34m\u001b[0m\u001b[0m\n",
      "\u001b[0;31mKeyError\u001b[0m: 'Interrupted'"
     ]
    }
   ],
   "source": [
    "#meta-training\n",
    "m.fit(x_train, y_train)"
   ]
  },
  {
   "cell_type": "code",
   "execution_count": 7,
   "metadata": {},
   "outputs": [
    {
     "name": "stdout",
     "output_type": "stream",
     "text": [
      "Accuracy = 0.9333333333333333\n"
     ]
    }
   ],
   "source": [
    "#meta-testing\n",
    "y_pred = m.predict(x_test)\n",
    "print('Accuracy = {}'.format(accuracy_score(y_test, y_pred)))"
   ]
  }
 ],
 "metadata": {
  "kernelspec": {
   "display_name": "Python 3",
   "language": "python",
   "name": "python3"
  },
  "language_info": {
   "codemirror_mode": {
    "name": "ipython",
    "version": 3
   },
   "file_extension": ".py",
   "mimetype": "text/x-python",
   "name": "python",
   "nbconvert_exporter": "python",
   "pygments_lexer": "ipython3",
   "version": "3.6.4"
  }
 },
 "nbformat": 4,
 "nbformat_minor": 2
}
